{
  "cells": [
    {
      "cell_type": "markdown",
      "metadata": {
        "id": "HD_DeCk3eJhi"
      },
      "source": [
        "**PROJECT: FAKE NEWS FILTER**"
      ]
    },
    {
      "cell_type": "markdown",
      "metadata": {
        "id": "6zIBvPIYeWPJ"
      },
      "source": [
        "**1. Prerequisites**"
      ]
    },
    {
      "cell_type": "code",
      "execution_count": 1,
      "metadata": {
        "colab": {
          "base_uri": "https://localhost:8080/"
        },
        "id": "KSg9E8WNZvBy",
        "outputId": "c373882f-6a6f-4c56-80f6-8c9ef3e8b1c8"
      },
      "outputs": [
        {
          "output_type": "stream",
          "name": "stdout",
          "text": [
            "--2024-08-24 07:40:30--  https://proai-datasets.s3.eu-west-3.amazonaws.com/fake_news.zip\n",
            "Resolving proai-datasets.s3.eu-west-3.amazonaws.com (proai-datasets.s3.eu-west-3.amazonaws.com)... 3.5.205.182, 16.12.19.18\n",
            "Connecting to proai-datasets.s3.eu-west-3.amazonaws.com (proai-datasets.s3.eu-west-3.amazonaws.com)|3.5.205.182|:443... connected.\n",
            "HTTP request sent, awaiting response... 200 OK\n",
            "Length: 42975911 (41M) [application/zip]\n",
            "Saving to: ‘fake_news.zip’\n",
            "\n",
            "fake_news.zip       100%[===================>]  40.98M  25.3MB/s    in 1.6s    \n",
            "\n",
            "2024-08-24 07:40:32 (25.3 MB/s) - ‘fake_news.zip’ saved [42975911/42975911]\n",
            "\n",
            "Archive:  fake_news.zip\n",
            "  inflating: Fake.csv                \n",
            "  inflating: True.csv                \n"
          ]
        }
      ],
      "source": [
        "!wget https://proai-datasets.s3.eu-west-3.amazonaws.com/fake_news.zip\n",
        "!unzip fake_news.zip"
      ]
    },
    {
      "cell_type": "code",
      "execution_count": 2,
      "metadata": {
        "id": "DhWmvbdVaC96"
      },
      "outputs": [],
      "source": [
        "import pandas as pd\n",
        "import nltk\n",
        "from nltk.corpus import stopwords\n",
        "import re\n",
        "import spacy\n",
        "import string\n",
        "from sklearn.feature_extraction.text import TfidfVectorizer\n",
        "import pickle\n",
        "from sklearn.model_selection import train_test_split\n",
        "from sklearn.neural_network import MLPClassifier\n",
        "from sklearn.model_selection import cross_val_score\n",
        "import gensim\n",
        "from gensim.utils import simple_preprocess\n",
        "import gensim.corpora as corpora\n",
        "from pprint import pprint\n",
        "from collections import Counter\n",
        "import numpy as np"
      ]
    },
    {
      "cell_type": "code",
      "execution_count": 4,
      "metadata": {
        "colab": {
          "base_uri": "https://localhost:8080/",
          "height": 206
        },
        "id": "dnRcgtvGdVsT",
        "outputId": "342452d8-ef2c-4e10-8951-3300d12bc0d2"
      },
      "outputs": [
        {
          "output_type": "execute_result",
          "data": {
            "text/plain": [
              "                                               title  \\\n",
              "0  As U.S. budget fight looms, Republicans flip t...   \n",
              "1  U.S. military to accept transgender recruits o...   \n",
              "2  Senior U.S. Republican senator: 'Let Mr. Muell...   \n",
              "3  FBI Russia probe helped by Australian diplomat...   \n",
              "4  Trump wants Postal Service to charge 'much mor...   \n",
              "\n",
              "                                                text       subject  \\\n",
              "0  WASHINGTON (Reuters) - The head of a conservat...  politicsNews   \n",
              "1  WASHINGTON (Reuters) - Transgender people will...  politicsNews   \n",
              "2  WASHINGTON (Reuters) - The special counsel inv...  politicsNews   \n",
              "3  WASHINGTON (Reuters) - Trump campaign adviser ...  politicsNews   \n",
              "4  SEATTLE/WASHINGTON (Reuters) - President Donal...  politicsNews   \n",
              "\n",
              "                 date  \n",
              "0  December 31, 2017   \n",
              "1  December 29, 2017   \n",
              "2  December 31, 2017   \n",
              "3  December 30, 2017   \n",
              "4  December 29, 2017   "
            ],
            "text/html": [
              "\n",
              "  <div id=\"df-45cf673d-0ed9-4393-80d0-5e98fe1d5573\" class=\"colab-df-container\">\n",
              "    <div>\n",
              "<style scoped>\n",
              "    .dataframe tbody tr th:only-of-type {\n",
              "        vertical-align: middle;\n",
              "    }\n",
              "\n",
              "    .dataframe tbody tr th {\n",
              "        vertical-align: top;\n",
              "    }\n",
              "\n",
              "    .dataframe thead th {\n",
              "        text-align: right;\n",
              "    }\n",
              "</style>\n",
              "<table border=\"1\" class=\"dataframe\">\n",
              "  <thead>\n",
              "    <tr style=\"text-align: right;\">\n",
              "      <th></th>\n",
              "      <th>title</th>\n",
              "      <th>text</th>\n",
              "      <th>subject</th>\n",
              "      <th>date</th>\n",
              "    </tr>\n",
              "  </thead>\n",
              "  <tbody>\n",
              "    <tr>\n",
              "      <th>0</th>\n",
              "      <td>As U.S. budget fight looms, Republicans flip t...</td>\n",
              "      <td>WASHINGTON (Reuters) - The head of a conservat...</td>\n",
              "      <td>politicsNews</td>\n",
              "      <td>December 31, 2017</td>\n",
              "    </tr>\n",
              "    <tr>\n",
              "      <th>1</th>\n",
              "      <td>U.S. military to accept transgender recruits o...</td>\n",
              "      <td>WASHINGTON (Reuters) - Transgender people will...</td>\n",
              "      <td>politicsNews</td>\n",
              "      <td>December 29, 2017</td>\n",
              "    </tr>\n",
              "    <tr>\n",
              "      <th>2</th>\n",
              "      <td>Senior U.S. Republican senator: 'Let Mr. Muell...</td>\n",
              "      <td>WASHINGTON (Reuters) - The special counsel inv...</td>\n",
              "      <td>politicsNews</td>\n",
              "      <td>December 31, 2017</td>\n",
              "    </tr>\n",
              "    <tr>\n",
              "      <th>3</th>\n",
              "      <td>FBI Russia probe helped by Australian diplomat...</td>\n",
              "      <td>WASHINGTON (Reuters) - Trump campaign adviser ...</td>\n",
              "      <td>politicsNews</td>\n",
              "      <td>December 30, 2017</td>\n",
              "    </tr>\n",
              "    <tr>\n",
              "      <th>4</th>\n",
              "      <td>Trump wants Postal Service to charge 'much mor...</td>\n",
              "      <td>SEATTLE/WASHINGTON (Reuters) - President Donal...</td>\n",
              "      <td>politicsNews</td>\n",
              "      <td>December 29, 2017</td>\n",
              "    </tr>\n",
              "  </tbody>\n",
              "</table>\n",
              "</div>\n",
              "    <div class=\"colab-df-buttons\">\n",
              "\n",
              "  <div class=\"colab-df-container\">\n",
              "    <button class=\"colab-df-convert\" onclick=\"convertToInteractive('df-45cf673d-0ed9-4393-80d0-5e98fe1d5573')\"\n",
              "            title=\"Convert this dataframe to an interactive table.\"\n",
              "            style=\"display:none;\">\n",
              "\n",
              "  <svg xmlns=\"http://www.w3.org/2000/svg\" height=\"24px\" viewBox=\"0 -960 960 960\">\n",
              "    <path d=\"M120-120v-720h720v720H120Zm60-500h600v-160H180v160Zm220 220h160v-160H400v160Zm0 220h160v-160H400v160ZM180-400h160v-160H180v160Zm440 0h160v-160H620v160ZM180-180h160v-160H180v160Zm440 0h160v-160H620v160Z\"/>\n",
              "  </svg>\n",
              "    </button>\n",
              "\n",
              "  <style>\n",
              "    .colab-df-container {\n",
              "      display:flex;\n",
              "      gap: 12px;\n",
              "    }\n",
              "\n",
              "    .colab-df-convert {\n",
              "      background-color: #E8F0FE;\n",
              "      border: none;\n",
              "      border-radius: 50%;\n",
              "      cursor: pointer;\n",
              "      display: none;\n",
              "      fill: #1967D2;\n",
              "      height: 32px;\n",
              "      padding: 0 0 0 0;\n",
              "      width: 32px;\n",
              "    }\n",
              "\n",
              "    .colab-df-convert:hover {\n",
              "      background-color: #E2EBFA;\n",
              "      box-shadow: 0px 1px 2px rgba(60, 64, 67, 0.3), 0px 1px 3px 1px rgba(60, 64, 67, 0.15);\n",
              "      fill: #174EA6;\n",
              "    }\n",
              "\n",
              "    .colab-df-buttons div {\n",
              "      margin-bottom: 4px;\n",
              "    }\n",
              "\n",
              "    [theme=dark] .colab-df-convert {\n",
              "      background-color: #3B4455;\n",
              "      fill: #D2E3FC;\n",
              "    }\n",
              "\n",
              "    [theme=dark] .colab-df-convert:hover {\n",
              "      background-color: #434B5C;\n",
              "      box-shadow: 0px 1px 3px 1px rgba(0, 0, 0, 0.15);\n",
              "      filter: drop-shadow(0px 1px 2px rgba(0, 0, 0, 0.3));\n",
              "      fill: #FFFFFF;\n",
              "    }\n",
              "  </style>\n",
              "\n",
              "    <script>\n",
              "      const buttonEl =\n",
              "        document.querySelector('#df-45cf673d-0ed9-4393-80d0-5e98fe1d5573 button.colab-df-convert');\n",
              "      buttonEl.style.display =\n",
              "        google.colab.kernel.accessAllowed ? 'block' : 'none';\n",
              "\n",
              "      async function convertToInteractive(key) {\n",
              "        const element = document.querySelector('#df-45cf673d-0ed9-4393-80d0-5e98fe1d5573');\n",
              "        const dataTable =\n",
              "          await google.colab.kernel.invokeFunction('convertToInteractive',\n",
              "                                                    [key], {});\n",
              "        if (!dataTable) return;\n",
              "\n",
              "        const docLinkHtml = 'Like what you see? Visit the ' +\n",
              "          '<a target=\"_blank\" href=https://colab.research.google.com/notebooks/data_table.ipynb>data table notebook</a>'\n",
              "          + ' to learn more about interactive tables.';\n",
              "        element.innerHTML = '';\n",
              "        dataTable['output_type'] = 'display_data';\n",
              "        await google.colab.output.renderOutput(dataTable, element);\n",
              "        const docLink = document.createElement('div');\n",
              "        docLink.innerHTML = docLinkHtml;\n",
              "        element.appendChild(docLink);\n",
              "      }\n",
              "    </script>\n",
              "  </div>\n",
              "\n",
              "\n",
              "<div id=\"df-02efd617-e20b-478e-8236-b692a678db6f\">\n",
              "  <button class=\"colab-df-quickchart\" onclick=\"quickchart('df-02efd617-e20b-478e-8236-b692a678db6f')\"\n",
              "            title=\"Suggest charts\"\n",
              "            style=\"display:none;\">\n",
              "\n",
              "<svg xmlns=\"http://www.w3.org/2000/svg\" height=\"24px\"viewBox=\"0 0 24 24\"\n",
              "     width=\"24px\">\n",
              "    <g>\n",
              "        <path d=\"M19 3H5c-1.1 0-2 .9-2 2v14c0 1.1.9 2 2 2h14c1.1 0 2-.9 2-2V5c0-1.1-.9-2-2-2zM9 17H7v-7h2v7zm4 0h-2V7h2v10zm4 0h-2v-4h2v4z\"/>\n",
              "    </g>\n",
              "</svg>\n",
              "  </button>\n",
              "\n",
              "<style>\n",
              "  .colab-df-quickchart {\n",
              "      --bg-color: #E8F0FE;\n",
              "      --fill-color: #1967D2;\n",
              "      --hover-bg-color: #E2EBFA;\n",
              "      --hover-fill-color: #174EA6;\n",
              "      --disabled-fill-color: #AAA;\n",
              "      --disabled-bg-color: #DDD;\n",
              "  }\n",
              "\n",
              "  [theme=dark] .colab-df-quickchart {\n",
              "      --bg-color: #3B4455;\n",
              "      --fill-color: #D2E3FC;\n",
              "      --hover-bg-color: #434B5C;\n",
              "      --hover-fill-color: #FFFFFF;\n",
              "      --disabled-bg-color: #3B4455;\n",
              "      --disabled-fill-color: #666;\n",
              "  }\n",
              "\n",
              "  .colab-df-quickchart {\n",
              "    background-color: var(--bg-color);\n",
              "    border: none;\n",
              "    border-radius: 50%;\n",
              "    cursor: pointer;\n",
              "    display: none;\n",
              "    fill: var(--fill-color);\n",
              "    height: 32px;\n",
              "    padding: 0;\n",
              "    width: 32px;\n",
              "  }\n",
              "\n",
              "  .colab-df-quickchart:hover {\n",
              "    background-color: var(--hover-bg-color);\n",
              "    box-shadow: 0 1px 2px rgba(60, 64, 67, 0.3), 0 1px 3px 1px rgba(60, 64, 67, 0.15);\n",
              "    fill: var(--button-hover-fill-color);\n",
              "  }\n",
              "\n",
              "  .colab-df-quickchart-complete:disabled,\n",
              "  .colab-df-quickchart-complete:disabled:hover {\n",
              "    background-color: var(--disabled-bg-color);\n",
              "    fill: var(--disabled-fill-color);\n",
              "    box-shadow: none;\n",
              "  }\n",
              "\n",
              "  .colab-df-spinner {\n",
              "    border: 2px solid var(--fill-color);\n",
              "    border-color: transparent;\n",
              "    border-bottom-color: var(--fill-color);\n",
              "    animation:\n",
              "      spin 1s steps(1) infinite;\n",
              "  }\n",
              "\n",
              "  @keyframes spin {\n",
              "    0% {\n",
              "      border-color: transparent;\n",
              "      border-bottom-color: var(--fill-color);\n",
              "      border-left-color: var(--fill-color);\n",
              "    }\n",
              "    20% {\n",
              "      border-color: transparent;\n",
              "      border-left-color: var(--fill-color);\n",
              "      border-top-color: var(--fill-color);\n",
              "    }\n",
              "    30% {\n",
              "      border-color: transparent;\n",
              "      border-left-color: var(--fill-color);\n",
              "      border-top-color: var(--fill-color);\n",
              "      border-right-color: var(--fill-color);\n",
              "    }\n",
              "    40% {\n",
              "      border-color: transparent;\n",
              "      border-right-color: var(--fill-color);\n",
              "      border-top-color: var(--fill-color);\n",
              "    }\n",
              "    60% {\n",
              "      border-color: transparent;\n",
              "      border-right-color: var(--fill-color);\n",
              "    }\n",
              "    80% {\n",
              "      border-color: transparent;\n",
              "      border-right-color: var(--fill-color);\n",
              "      border-bottom-color: var(--fill-color);\n",
              "    }\n",
              "    90% {\n",
              "      border-color: transparent;\n",
              "      border-bottom-color: var(--fill-color);\n",
              "    }\n",
              "  }\n",
              "</style>\n",
              "\n",
              "  <script>\n",
              "    async function quickchart(key) {\n",
              "      const quickchartButtonEl =\n",
              "        document.querySelector('#' + key + ' button');\n",
              "      quickchartButtonEl.disabled = true;  // To prevent multiple clicks.\n",
              "      quickchartButtonEl.classList.add('colab-df-spinner');\n",
              "      try {\n",
              "        const charts = await google.colab.kernel.invokeFunction(\n",
              "            'suggestCharts', [key], {});\n",
              "      } catch (error) {\n",
              "        console.error('Error during call to suggestCharts:', error);\n",
              "      }\n",
              "      quickchartButtonEl.classList.remove('colab-df-spinner');\n",
              "      quickchartButtonEl.classList.add('colab-df-quickchart-complete');\n",
              "    }\n",
              "    (() => {\n",
              "      let quickchartButtonEl =\n",
              "        document.querySelector('#df-02efd617-e20b-478e-8236-b692a678db6f button');\n",
              "      quickchartButtonEl.style.display =\n",
              "        google.colab.kernel.accessAllowed ? 'block' : 'none';\n",
              "    })();\n",
              "  </script>\n",
              "</div>\n",
              "\n",
              "    </div>\n",
              "  </div>\n"
            ],
            "application/vnd.google.colaboratory.intrinsic+json": {
              "type": "dataframe",
              "variable_name": "df_true",
              "summary": "{\n  \"name\": \"df_true\",\n  \"rows\": 21417,\n  \"fields\": [\n    {\n      \"column\": \"title\",\n      \"properties\": {\n        \"dtype\": \"string\",\n        \"num_unique_values\": 20826,\n        \"samples\": [\n          \"German, Turkish foreign ministers meet after detainee released\",\n          \"Kremlin calls North Korea's latest missile launch another 'provocation'\",\n          \"Transgender soldiers, veterans shaken by Trump's ban on their service\"\n        ],\n        \"semantic_type\": \"\",\n        \"description\": \"\"\n      }\n    },\n    {\n      \"column\": \"text\",\n      \"properties\": {\n        \"dtype\": \"string\",\n        \"num_unique_values\": 21192,\n        \"samples\": [\n          \"WASHINGTON (Reuters) - A majority of the U.S. Senate on Tuesday backed a new round of disaster aid to help Puerto Rico and several states recover from damage from hurricanes and wildfires. The legislation would provide $36.5 billion in emergency relief as Puerto Rico in particular struggles to regain electricity and other basic services following destructive hurricanes. The House of Representatives approved the bill earlier this month. The Trump administration already has indicated it will seek another round of emergency relief from Congress. \",\n          \"BUDAPEST (Reuters) - About a thousand Hungarians protested on Friday against a crackdown on the main opposition party Jobbik which has been  threatened by a record political campaign fine that the party leader describes as a  death sentence  for democracy. Despite the gloomy rhetoric and Jobbik saying it was fighting for survival, support for the demonstration was well down on other similar rallies over the past year. Hungarians will vote for a new parliament in April and Prime Minister Viktor Orban s conservative, anti-migrant Fidesz party is far ahead in the polls, with Jobbik its nearest rival. Jobbik, once on the far right, has turned toward the center in a bid to attract more support and is now campaigning nationwide against Orban, depicting him as the leader of a criminal gang. Orban, rejecting the charges, says his financial standing is  an open book . Last week the state audit office (ASZ) ruled Jobbik had bought political posters far below market prices, breaching rules on political funding, then it slapped a 663 million forint ($2.5 million) penalty on the party. The protesters, waving Jobbik flags and posters deriding the ruling elite, gathered outside the headquarters of Orban s Fidesz party.  What we see unfolding is not an audit office investigation. It is not an official penalty. This is a death sentence with Jobbik s name on it. But in reality, it is a death sentence for Hungarian democracy,  Jobbiik leader Gabor Vona told the crowd. A government spokesman could not comment immediately on his remarks. ASZ chairman Laszlo Domokos is a former Fidesz lawmaker, whom Jobbik and other critics accuse of making decisions in favor of Orban. The audit office denies that. On Friday, ASZ again called on Jobbik to submit information that would challenge its findings, saying it acted fully within its rights throughout the probe. The ruling Fidesz party and the government have denied any involvement in the ASZ probe.  This case has nothing to do with the election campaign,  Orban aide Janos Lazar said on Thursday. For over a year Fidesz has targeted Jobbik, whose move to the center could upend the longstanding status quo of a dominant Fidesz with weaker opponents to its left and its right, said analyst Zoltan Novak at the Centre for Fair Political Analysis. Gyorgy Illes, a 67-year-old pensioner attending the rally, said he used to be a Socialist supporter but got disillusioned as the party struggled to overcome its internal divisions.  This ASZ probe is a clear sign that Orban is way past any remedy. It is a ruthless attack on everything we hold dear. Democracy, the rule of law, equality, you name it,  he said. \",\n          \"BEIJING/TAIPEI (Reuters) - China accused the United States on Thursday of interfering in its internal affairs and said it had lodged a complaint after U.S. President Donald Trump signed into law an act laying the groundwork for possible U.S. navy visits to self-ruled Taiwan. Tensions have risen in recent days after a senior Chinese diplomat threatened China would invade Taiwan if any U.S. warships made port visits to the island which China claims as its own territory. On Monday, Chinese jets carried out  island encirclement patrols  around Taiwan, with state media showing pictures of bombers with cruise missiles slung under their wings as they carried out the exercise. On Tuesday, Trump signed into law the National Defense Authorization Act for the 2018 fiscal year, which authorizes the possibility of mutual visits by navy vessels between Taiwan and the United States. Such visits would be the first since the United States ended formal diplomatic relations with Taiwan in 1979 and established ties with Beijing. Chinese Foreign Ministry spokesman Lu Kang said while the Taiwan sections of the law were not legally binding, they seriously violate the  One China  policy and  constitute an interference in China s internal affairs .   China is resolutely opposed to this, and we have already lodged stern representations with the U.S. government,  Lu told a daily news briefing. China is firmly opposed to any official exchanges, military contact, or arms sales between Taiwan and the United States, he added.  Proudly democratic Taiwan has become increasingly concerned with the ramped up Chinese military presence, that has included several rounds of Chinese air force drills around the island in recent months.  Taiwan is confident of its defenses and responded quickly to the Chinese air force drills this week, its government said, denouncing the rise in China s military deployments as irresponsible. Taiwan presidential spokesman Alex Huang, speaking to Taiwan media in comments reported late on Wednesday, said the defense ministry had kept a close watch on the patrols and responded immediately and properly. Taiwan  can ensure there are no concerns at all about national security, and people can rest assured , Huang said. Both sides of the narrow Taiwan Strait, which separates Taiwan from its giant neighbor, have a responsibility to protect peace and stability, he added.  Such a raised military posture that may impact upon and harm regional peace and stability and cross-strait ties does not give a feeling of responsibility, and the international community does not look favorably upon this,  Huang was quoted as saying. Relations have soured considerably since Tsai Ing-wen, who leads Taiwan s independence-leaning Democratic Progressive Party, won presidential elections last year. China suspects Tsai wants to declare the island s formal independence, a red line for Beijing. Tsai says she wants to maintain peace with China but will defend Taiwan s security. Taiwan is well equipped with mostly U.S. weapons but has been pressing for more advanced equipment to deal with what it sees as a rising threat from China. The United States is bound by law to provide the island with the means to defend itself. China has never renounced the use of force to bring Taiwan under its control. \"\n        ],\n        \"semantic_type\": \"\",\n        \"description\": \"\"\n      }\n    },\n    {\n      \"column\": \"subject\",\n      \"properties\": {\n        \"dtype\": \"category\",\n        \"num_unique_values\": 2,\n        \"samples\": [\n          \"worldnews\",\n          \"politicsNews\"\n        ],\n        \"semantic_type\": \"\",\n        \"description\": \"\"\n      }\n    },\n    {\n      \"column\": \"date\",\n      \"properties\": {\n        \"dtype\": \"object\",\n        \"num_unique_values\": 716,\n        \"samples\": [\n          \"September 2, 2017 \",\n          \"February 2, 2017 \"\n        ],\n        \"semantic_type\": \"\",\n        \"description\": \"\"\n      }\n    }\n  ]\n}"
            }
          },
          "metadata": {},
          "execution_count": 4
        }
      ],
      "source": [
        "df_true = pd.read_csv(\"True.csv\")\n",
        "df_true.head()"
      ]
    },
    {
      "cell_type": "code",
      "execution_count": 5,
      "metadata": {
        "colab": {
          "base_uri": "https://localhost:8080/",
          "height": 206
        },
        "id": "bKu4QnU2dhOs",
        "outputId": "18e7fdb6-185f-4e44-a449-87e88f345394"
      },
      "outputs": [
        {
          "output_type": "execute_result",
          "data": {
            "text/plain": [
              "                                               title  \\\n",
              "0   Donald Trump Sends Out Embarrassing New Year’...   \n",
              "1   Drunk Bragging Trump Staffer Started Russian ...   \n",
              "2   Sheriff David Clarke Becomes An Internet Joke...   \n",
              "3   Trump Is So Obsessed He Even Has Obama’s Name...   \n",
              "4   Pope Francis Just Called Out Donald Trump Dur...   \n",
              "\n",
              "                                                text subject  \\\n",
              "0  Donald Trump just couldn t wish all Americans ...    News   \n",
              "1  House Intelligence Committee Chairman Devin Nu...    News   \n",
              "2  On Friday, it was revealed that former Milwauk...    News   \n",
              "3  On Christmas day, Donald Trump announced that ...    News   \n",
              "4  Pope Francis used his annual Christmas Day mes...    News   \n",
              "\n",
              "                date  \n",
              "0  December 31, 2017  \n",
              "1  December 31, 2017  \n",
              "2  December 30, 2017  \n",
              "3  December 29, 2017  \n",
              "4  December 25, 2017  "
            ],
            "text/html": [
              "\n",
              "  <div id=\"df-d1a59350-f89c-461d-aa39-03f6e819e0e9\" class=\"colab-df-container\">\n",
              "    <div>\n",
              "<style scoped>\n",
              "    .dataframe tbody tr th:only-of-type {\n",
              "        vertical-align: middle;\n",
              "    }\n",
              "\n",
              "    .dataframe tbody tr th {\n",
              "        vertical-align: top;\n",
              "    }\n",
              "\n",
              "    .dataframe thead th {\n",
              "        text-align: right;\n",
              "    }\n",
              "</style>\n",
              "<table border=\"1\" class=\"dataframe\">\n",
              "  <thead>\n",
              "    <tr style=\"text-align: right;\">\n",
              "      <th></th>\n",
              "      <th>title</th>\n",
              "      <th>text</th>\n",
              "      <th>subject</th>\n",
              "      <th>date</th>\n",
              "    </tr>\n",
              "  </thead>\n",
              "  <tbody>\n",
              "    <tr>\n",
              "      <th>0</th>\n",
              "      <td>Donald Trump Sends Out Embarrassing New Year’...</td>\n",
              "      <td>Donald Trump just couldn t wish all Americans ...</td>\n",
              "      <td>News</td>\n",
              "      <td>December 31, 2017</td>\n",
              "    </tr>\n",
              "    <tr>\n",
              "      <th>1</th>\n",
              "      <td>Drunk Bragging Trump Staffer Started Russian ...</td>\n",
              "      <td>House Intelligence Committee Chairman Devin Nu...</td>\n",
              "      <td>News</td>\n",
              "      <td>December 31, 2017</td>\n",
              "    </tr>\n",
              "    <tr>\n",
              "      <th>2</th>\n",
              "      <td>Sheriff David Clarke Becomes An Internet Joke...</td>\n",
              "      <td>On Friday, it was revealed that former Milwauk...</td>\n",
              "      <td>News</td>\n",
              "      <td>December 30, 2017</td>\n",
              "    </tr>\n",
              "    <tr>\n",
              "      <th>3</th>\n",
              "      <td>Trump Is So Obsessed He Even Has Obama’s Name...</td>\n",
              "      <td>On Christmas day, Donald Trump announced that ...</td>\n",
              "      <td>News</td>\n",
              "      <td>December 29, 2017</td>\n",
              "    </tr>\n",
              "    <tr>\n",
              "      <th>4</th>\n",
              "      <td>Pope Francis Just Called Out Donald Trump Dur...</td>\n",
              "      <td>Pope Francis used his annual Christmas Day mes...</td>\n",
              "      <td>News</td>\n",
              "      <td>December 25, 2017</td>\n",
              "    </tr>\n",
              "  </tbody>\n",
              "</table>\n",
              "</div>\n",
              "    <div class=\"colab-df-buttons\">\n",
              "\n",
              "  <div class=\"colab-df-container\">\n",
              "    <button class=\"colab-df-convert\" onclick=\"convertToInteractive('df-d1a59350-f89c-461d-aa39-03f6e819e0e9')\"\n",
              "            title=\"Convert this dataframe to an interactive table.\"\n",
              "            style=\"display:none;\">\n",
              "\n",
              "  <svg xmlns=\"http://www.w3.org/2000/svg\" height=\"24px\" viewBox=\"0 -960 960 960\">\n",
              "    <path d=\"M120-120v-720h720v720H120Zm60-500h600v-160H180v160Zm220 220h160v-160H400v160Zm0 220h160v-160H400v160ZM180-400h160v-160H180v160Zm440 0h160v-160H620v160ZM180-180h160v-160H180v160Zm440 0h160v-160H620v160Z\"/>\n",
              "  </svg>\n",
              "    </button>\n",
              "\n",
              "  <style>\n",
              "    .colab-df-container {\n",
              "      display:flex;\n",
              "      gap: 12px;\n",
              "    }\n",
              "\n",
              "    .colab-df-convert {\n",
              "      background-color: #E8F0FE;\n",
              "      border: none;\n",
              "      border-radius: 50%;\n",
              "      cursor: pointer;\n",
              "      display: none;\n",
              "      fill: #1967D2;\n",
              "      height: 32px;\n",
              "      padding: 0 0 0 0;\n",
              "      width: 32px;\n",
              "    }\n",
              "\n",
              "    .colab-df-convert:hover {\n",
              "      background-color: #E2EBFA;\n",
              "      box-shadow: 0px 1px 2px rgba(60, 64, 67, 0.3), 0px 1px 3px 1px rgba(60, 64, 67, 0.15);\n",
              "      fill: #174EA6;\n",
              "    }\n",
              "\n",
              "    .colab-df-buttons div {\n",
              "      margin-bottom: 4px;\n",
              "    }\n",
              "\n",
              "    [theme=dark] .colab-df-convert {\n",
              "      background-color: #3B4455;\n",
              "      fill: #D2E3FC;\n",
              "    }\n",
              "\n",
              "    [theme=dark] .colab-df-convert:hover {\n",
              "      background-color: #434B5C;\n",
              "      box-shadow: 0px 1px 3px 1px rgba(0, 0, 0, 0.15);\n",
              "      filter: drop-shadow(0px 1px 2px rgba(0, 0, 0, 0.3));\n",
              "      fill: #FFFFFF;\n",
              "    }\n",
              "  </style>\n",
              "\n",
              "    <script>\n",
              "      const buttonEl =\n",
              "        document.querySelector('#df-d1a59350-f89c-461d-aa39-03f6e819e0e9 button.colab-df-convert');\n",
              "      buttonEl.style.display =\n",
              "        google.colab.kernel.accessAllowed ? 'block' : 'none';\n",
              "\n",
              "      async function convertToInteractive(key) {\n",
              "        const element = document.querySelector('#df-d1a59350-f89c-461d-aa39-03f6e819e0e9');\n",
              "        const dataTable =\n",
              "          await google.colab.kernel.invokeFunction('convertToInteractive',\n",
              "                                                    [key], {});\n",
              "        if (!dataTable) return;\n",
              "\n",
              "        const docLinkHtml = 'Like what you see? Visit the ' +\n",
              "          '<a target=\"_blank\" href=https://colab.research.google.com/notebooks/data_table.ipynb>data table notebook</a>'\n",
              "          + ' to learn more about interactive tables.';\n",
              "        element.innerHTML = '';\n",
              "        dataTable['output_type'] = 'display_data';\n",
              "        await google.colab.output.renderOutput(dataTable, element);\n",
              "        const docLink = document.createElement('div');\n",
              "        docLink.innerHTML = docLinkHtml;\n",
              "        element.appendChild(docLink);\n",
              "      }\n",
              "    </script>\n",
              "  </div>\n",
              "\n",
              "\n",
              "<div id=\"df-56ea82b3-5572-4c88-a001-2aa29106cf32\">\n",
              "  <button class=\"colab-df-quickchart\" onclick=\"quickchart('df-56ea82b3-5572-4c88-a001-2aa29106cf32')\"\n",
              "            title=\"Suggest charts\"\n",
              "            style=\"display:none;\">\n",
              "\n",
              "<svg xmlns=\"http://www.w3.org/2000/svg\" height=\"24px\"viewBox=\"0 0 24 24\"\n",
              "     width=\"24px\">\n",
              "    <g>\n",
              "        <path d=\"M19 3H5c-1.1 0-2 .9-2 2v14c0 1.1.9 2 2 2h14c1.1 0 2-.9 2-2V5c0-1.1-.9-2-2-2zM9 17H7v-7h2v7zm4 0h-2V7h2v10zm4 0h-2v-4h2v4z\"/>\n",
              "    </g>\n",
              "</svg>\n",
              "  </button>\n",
              "\n",
              "<style>\n",
              "  .colab-df-quickchart {\n",
              "      --bg-color: #E8F0FE;\n",
              "      --fill-color: #1967D2;\n",
              "      --hover-bg-color: #E2EBFA;\n",
              "      --hover-fill-color: #174EA6;\n",
              "      --disabled-fill-color: #AAA;\n",
              "      --disabled-bg-color: #DDD;\n",
              "  }\n",
              "\n",
              "  [theme=dark] .colab-df-quickchart {\n",
              "      --bg-color: #3B4455;\n",
              "      --fill-color: #D2E3FC;\n",
              "      --hover-bg-color: #434B5C;\n",
              "      --hover-fill-color: #FFFFFF;\n",
              "      --disabled-bg-color: #3B4455;\n",
              "      --disabled-fill-color: #666;\n",
              "  }\n",
              "\n",
              "  .colab-df-quickchart {\n",
              "    background-color: var(--bg-color);\n",
              "    border: none;\n",
              "    border-radius: 50%;\n",
              "    cursor: pointer;\n",
              "    display: none;\n",
              "    fill: var(--fill-color);\n",
              "    height: 32px;\n",
              "    padding: 0;\n",
              "    width: 32px;\n",
              "  }\n",
              "\n",
              "  .colab-df-quickchart:hover {\n",
              "    background-color: var(--hover-bg-color);\n",
              "    box-shadow: 0 1px 2px rgba(60, 64, 67, 0.3), 0 1px 3px 1px rgba(60, 64, 67, 0.15);\n",
              "    fill: var(--button-hover-fill-color);\n",
              "  }\n",
              "\n",
              "  .colab-df-quickchart-complete:disabled,\n",
              "  .colab-df-quickchart-complete:disabled:hover {\n",
              "    background-color: var(--disabled-bg-color);\n",
              "    fill: var(--disabled-fill-color);\n",
              "    box-shadow: none;\n",
              "  }\n",
              "\n",
              "  .colab-df-spinner {\n",
              "    border: 2px solid var(--fill-color);\n",
              "    border-color: transparent;\n",
              "    border-bottom-color: var(--fill-color);\n",
              "    animation:\n",
              "      spin 1s steps(1) infinite;\n",
              "  }\n",
              "\n",
              "  @keyframes spin {\n",
              "    0% {\n",
              "      border-color: transparent;\n",
              "      border-bottom-color: var(--fill-color);\n",
              "      border-left-color: var(--fill-color);\n",
              "    }\n",
              "    20% {\n",
              "      border-color: transparent;\n",
              "      border-left-color: var(--fill-color);\n",
              "      border-top-color: var(--fill-color);\n",
              "    }\n",
              "    30% {\n",
              "      border-color: transparent;\n",
              "      border-left-color: var(--fill-color);\n",
              "      border-top-color: var(--fill-color);\n",
              "      border-right-color: var(--fill-color);\n",
              "    }\n",
              "    40% {\n",
              "      border-color: transparent;\n",
              "      border-right-color: var(--fill-color);\n",
              "      border-top-color: var(--fill-color);\n",
              "    }\n",
              "    60% {\n",
              "      border-color: transparent;\n",
              "      border-right-color: var(--fill-color);\n",
              "    }\n",
              "    80% {\n",
              "      border-color: transparent;\n",
              "      border-right-color: var(--fill-color);\n",
              "      border-bottom-color: var(--fill-color);\n",
              "    }\n",
              "    90% {\n",
              "      border-color: transparent;\n",
              "      border-bottom-color: var(--fill-color);\n",
              "    }\n",
              "  }\n",
              "</style>\n",
              "\n",
              "  <script>\n",
              "    async function quickchart(key) {\n",
              "      const quickchartButtonEl =\n",
              "        document.querySelector('#' + key + ' button');\n",
              "      quickchartButtonEl.disabled = true;  // To prevent multiple clicks.\n",
              "      quickchartButtonEl.classList.add('colab-df-spinner');\n",
              "      try {\n",
              "        const charts = await google.colab.kernel.invokeFunction(\n",
              "            'suggestCharts', [key], {});\n",
              "      } catch (error) {\n",
              "        console.error('Error during call to suggestCharts:', error);\n",
              "      }\n",
              "      quickchartButtonEl.classList.remove('colab-df-spinner');\n",
              "      quickchartButtonEl.classList.add('colab-df-quickchart-complete');\n",
              "    }\n",
              "    (() => {\n",
              "      let quickchartButtonEl =\n",
              "        document.querySelector('#df-56ea82b3-5572-4c88-a001-2aa29106cf32 button');\n",
              "      quickchartButtonEl.style.display =\n",
              "        google.colab.kernel.accessAllowed ? 'block' : 'none';\n",
              "    })();\n",
              "  </script>\n",
              "</div>\n",
              "\n",
              "    </div>\n",
              "  </div>\n"
            ],
            "application/vnd.google.colaboratory.intrinsic+json": {
              "type": "dataframe",
              "variable_name": "df_fake",
              "summary": "{\n  \"name\": \"df_fake\",\n  \"rows\": 23481,\n  \"fields\": [\n    {\n      \"column\": \"title\",\n      \"properties\": {\n        \"dtype\": \"string\",\n        \"num_unique_values\": 17903,\n        \"samples\": [\n          \" Fox News Mocked Into Oblivion After This F*cking STUPID Attempt To Make Steve Bannon Look Sane (TWEETS)\",\n          \"BREAKING: FL GOV RICK SCOTT Calls for FBI Director to Resign\",\n          \" WATCH: Mike Pence\\u2019s Photo Op With Puerto Rico Survivors Just Went TERRIBLY Wrong (VIDEO)\"\n        ],\n        \"semantic_type\": \"\",\n        \"description\": \"\"\n      }\n    },\n    {\n      \"column\": \"text\",\n      \"properties\": {\n        \"dtype\": \"string\",\n        \"num_unique_values\": 17455,\n        \"samples\": [\n          \"The moral decay continues The Kapiolani Medical Center for Women and Children at the University of Hawaii is currently recruiting pregnant girls and women to participate in second-trimester abortions to measure their bleeding during the operation, with and without antihemorrhagic drugs. According to the Clinical Trials website, run by the National Institutes of Health, participants must be at least 14 years old and 18-24 weeks pregnant.The controversial study, led by Bliss Kaneshiro, MD and Kate Whitehouse, DO, will monitor bleeding during D&E abortions to determine the effects of the drug oxytocin, commonly used to minimize blood loss and decrease the risk of hemorrhage.The clinical trial, called  Effects of Oxytocin on Bleeding Outcomes during Dilation and Evacuation  began in October 2014 and is a collaboration between UH, Society of Family Planning and the University of Washington.The Society of Family Planning funds a number of similar research projects, such as experimenting with the dosage of Misoprostol, a uterine contracting agent, prior to surgical abortions at 13-18 weeks and exploring umbilical cord injections to produce fetal death prior to late-term abortions.In the UH study, researchers will carry out a  randomized, double-blinded, placebo-controlled trials,  to determine the effect of oxytocin s use on uterine bleeding, meaning that they will either provide or deny intravenous oxytocin to the women.Reports suggest that some doctors are concerned that withholding oxytocin during surgery may put patients, especially teen girls, at risk. This study is reminiscent of Nazi concentration camp experiments. I pity the poor women who are being treated like lab rats, especially those who are denied the drug to reduce hemorrhaging,  said Troy Newman, President of Operation Rescue.Dilation and evacuation abortions are surgical procedures that involve dismembering the pre-born baby with forceps, scraping the inside of the uterus with a curette to remove any residuals and finally suctioning out the womb to make sure the contents are completely removed.After the abortion, the corpse of the fetus is reassembled and examined to ensure everything was successfully removed and that the abortion was complete.The study is hoping to attract up to 166 test subjects and is expected to conclude in July 2015.Via: Breitbart News\",\n          \"CNN was quick to scoop up Corey Lewandowski after Donald Trump kicked him out of his role as campaign manager, but his first week on the job is going pretty much exactly how you would expect it to go   terribly.Not only has Lewandowski proven himself to be pretty much like a paid spokesman for Trump, but his defense of the disgraced GOP candidate isn t being received well. Earlier this week, Lewandowski revealed that he was under contract and couldn t criticize The Donald, even after being fired from the campaign. Today, Lewandowski got called out by Hillary Clinton surrogate Christine Quinn for hyping Trump up to be an expert on the Brexit decision   a suggestion that was clearly false.On Monday s edition of CNN s New Day, Lewandowski made another pathetic defense of Trump by trying to reframe the candidate s disgusting reaction to Brexit, where he mostly spoke about how much the decision would be good for his Scotland golf resort. Lewandowski s defense was: Obviously the U.S. dollar has become much stronger now against the British pound. If you re going to spend money in Europe, now would actually be a good time to go with the fall of the pound.What you have is a world view, so what you have is someone who is saying,  Let s look at this from the U.S. perspective. If you want to go and travel overseas   just from a monetary perspective   now is the right time to do that because what you re getting is more for your dollar. Quinn wasn t having it. She ripped into Lewandowski, firing back, Donald Trump is not running to be travel agent of the world, he s running to be president of the United States.  She continued: What he said wasn t a commentary on international markets, it was,  When the pound goes down, more people will come to my golf course. Donald Trump s main concern isn t the international markets, it isn t the impact that Brexit will have on hard working Americans  401Ks, it s himself. How can he make more money, how can he put more money in his bank account? Lewandowski compared the Brexit decision to Trump s rise in the GOP, and Quinn once again called him out and put him back in his place. She said: Trump touted that he saw this coming. That s ridiculous because when he was first asked about Brexit by the press, he didn t appear to know what it was. Lewandowski tried to counter by insisting that People are too smart, they are tired of being told what to do.  He then tried to commend Trump for being a selfish moron: You know what Donald Trump said about Brexit? What he said was, you don t have to listen to me because it s not my decision. He didn t weigh in like Hillary Clinton did, like Barack Obama did, saying that you can t do this. Quinn fought back, Because he didn t know what it was. Lewandowski was fighting a losing battle. Trump s reaction to Brexit was just as terrifying as it was humorous   it truly proved that Trump knows nothing about foreign affairs, and hasn t spent any time educating himself since the beginning of his presidential candidacy. If only some of the hours he spent getting into fights on Twitter were being used for learning about how the world works. But instead, he once again exposed himself as an unfit choice for President. And when people like Lewandowski try to make sense of his idiocy, they only make themselves look equally foolish.You can watch the embarrassing video below:Featured image via screen capture\",\n          \"A Michigan woman decided to defend against tyranny? when she and another shopper couldn t agree over who got to buy the last notebook on the shelf at the Novi Towne Center store.According to ABC 13, the brawl   yes, brawl    involved two Farmington Hills residents, ages 46 and 32, and a mother and daughter from South Lyon, ages 51 and 20. In other words, these were all grown adults who should have known better but hey   there was only one notebook on the shelf, and we ve all seen what happens in those post-apocalyptic movies when a store is down to the last gallon of milk, right?Two of the women, one of whom was the unnamed 20-year-old, reached for the notebook at the same time. The 46 and 32-year-olds apparently decided that she wasn t getting their goddamn notebook and began pulling her hair.Then, because this had almost hit peak  trailer park,  the 20-year-old s mother decided to go for bonus points by pulling out her gun. Fortunately, someone pushed her aside before she could do any harm.This is one of the NRA s  responsible gun owners  (conservatives can t dismiss this one, as it is confirmed that she is a concealed carry permit holder)   ready to leap into action at the most minor sign of danger and make things worse by turning the situation potentially deadly.Watch it happen below:Featured image via screengrab\"\n        ],\n        \"semantic_type\": \"\",\n        \"description\": \"\"\n      }\n    },\n    {\n      \"column\": \"subject\",\n      \"properties\": {\n        \"dtype\": \"category\",\n        \"num_unique_values\": 6,\n        \"samples\": [\n          \"News\",\n          \"politics\",\n          \"Middle-east\"\n        ],\n        \"semantic_type\": \"\",\n        \"description\": \"\"\n      }\n    },\n    {\n      \"column\": \"date\",\n      \"properties\": {\n        \"dtype\": \"category\",\n        \"num_unique_values\": 1681,\n        \"samples\": [\n          \"Jun 5, 2015\",\n          \"August 28, 2016\",\n          \"June 3, 2017\"\n        ],\n        \"semantic_type\": \"\",\n        \"description\": \"\"\n      }\n    }\n  ]\n}"
            }
          },
          "metadata": {},
          "execution_count": 5
        }
      ],
      "source": [
        "df_fake = pd.read_csv(\"Fake.csv\")\n",
        "df_fake.head()"
      ]
    },
    {
      "cell_type": "markdown",
      "metadata": {
        "id": "EskX79-OfHvw"
      },
      "source": [
        "**2. Implementation of Functions**"
      ]
    },
    {
      "cell_type": "code",
      "execution_count": 6,
      "metadata": {
        "colab": {
          "base_uri": "https://localhost:8080/"
        },
        "id": "WYfRPo5PfO_x",
        "outputId": "ec4d986e-c30d-45a2-d0f9-74eca6f2545b"
      },
      "outputs": [
        {
          "output_type": "stream",
          "name": "stdout",
          "text": [
            "<class 'pandas.core.frame.DataFrame'>\n",
            "RangeIndex: 44898 entries, 0 to 44897\n",
            "Data columns (total 3 columns):\n",
            " #   Column  Non-Null Count  Dtype \n",
            "---  ------  --------------  ----- \n",
            " 0   title   44898 non-null  object\n",
            " 1   text    44898 non-null  object\n",
            " 2   source  44898 non-null  object\n",
            "dtypes: object(3)\n",
            "memory usage: 1.0+ MB\n"
          ]
        }
      ],
      "source": [
        "df_true['source'] = 'true'\n",
        "df_fake['source'] = 'fake'\n",
        "df_true_subset = df_true[['title', 'text', 'source']]\n",
        "df_fake_subset = df_fake[['title', 'text', 'source']]\n",
        "df_news = pd.concat([df_true_subset, df_fake_subset], ignore_index=True)\n",
        "df_news.info()"
      ]
    },
    {
      "cell_type": "code",
      "execution_count": 7,
      "metadata": {
        "colab": {
          "base_uri": "https://localhost:8080/"
        },
        "id": "-Tk1CSNngy2O",
        "outputId": "d2035300-07d3-45ef-e12e-c9729f670780"
      },
      "outputs": [
        {
          "output_type": "stream",
          "name": "stderr",
          "text": [
            "[nltk_data] Downloading package stopwords to /root/nltk_data...\n",
            "[nltk_data]   Unzipping corpora/stopwords.zip.\n"
          ]
        }
      ],
      "source": [
        "nltk.download('stopwords')\n",
        "english_stopwords = set(stopwords.words('english'))\n",
        "nlp = spacy.load('en_core_web_sm')\n",
        "punctuation=set(string.punctuation)\n",
        "\n",
        "def data_cleaner(dataset):\n",
        "\n",
        "    def filter_tokens(text):\n",
        "        doc = nlp(text)\n",
        "        filtered_tokens = [token.text for token in doc if token.pos_ not in ['PRON', 'VERB', 'ADV', 'AUX', 'ADP']]\n",
        "        return ' '.join(filtered_tokens)\n",
        "\n",
        "    dataset_to_return = []\n",
        "    for sentence in dataset:\n",
        "        sentence = sentence.lower()\n",
        "        sentence = ''.join([char for char in sentence if char not in string.punctuation])\n",
        "        sentence = ' '.join(word for word in sentence.split() if word not in english_stopwords)\n",
        "        sentence = re.sub('\\d', '', sentence)\n",
        "        sentence = ' '.join(word for word in sentence.split() if len(word) > 3)\n",
        "        sentence = filter_tokens(sentence)\n",
        "        dataset_to_return.append(sentence)\n",
        "\n",
        "    return dataset_to_return\n"
      ]
    },
    {
      "cell_type": "code",
      "execution_count": 8,
      "metadata": {
        "id": "efbvetP7kUqh"
      },
      "outputs": [],
      "source": [
        "vectorizer=TfidfVectorizer()\n",
        "def bow_tfidf(dataset, vectorizer):\n",
        "  if vectorizer==None:\n",
        "    vectorizer=TfidfVectorizer()\n",
        "    X=vectorizer.fit_transform(dataset)\n",
        "  else:\n",
        "    X=vectorizer.transform(dataset)\n",
        "  return X.toarray(), vectorizer"
      ]
    },
    {
      "cell_type": "code",
      "execution_count": 9,
      "metadata": {
        "id": "mGcpdYNKqiaw"
      },
      "outputs": [],
      "source": [
        "news_text_cleaned = data_cleaner(df_news['text'])"
      ]
    },
    {
      "cell_type": "code",
      "execution_count": 10,
      "metadata": {
        "id": "mUeA8r4nMxeL"
      },
      "outputs": [],
      "source": [
        "with open('news_text_cleaned.pkl', 'wb') as f:\n",
        "    pickle.dump(news_text_cleaned, f)"
      ]
    },
    {
      "cell_type": "code",
      "execution_count": 11,
      "metadata": {
        "id": "GpBs46AqM4gP"
      },
      "outputs": [],
      "source": [
        "with open('news_text_cleaned.pkl', 'rb') as f:\n",
        "    news_text_cleaned = pickle.load(f)"
      ]
    },
    {
      "cell_type": "code",
      "execution_count": 12,
      "metadata": {
        "id": "BSE7WCsTM93U"
      },
      "outputs": [],
      "source": [
        "df_news['text_cleaned']=news_text_cleaned"
      ]
    },
    {
      "cell_type": "code",
      "execution_count": 13,
      "metadata": {
        "id": "owL3gsh8NFCW"
      },
      "outputs": [],
      "source": [
        "df_1,df_2=train_test_split(df_news,test_size=0.30,random_state=69)\n",
        "df_train,df_test=train_test_split(df_1,test_size=0.25,random_state=69)"
      ]
    },
    {
      "cell_type": "code",
      "execution_count": 14,
      "metadata": {
        "colab": {
          "base_uri": "https://localhost:8080/"
        },
        "id": "sQ7GI7gTNMYy",
        "outputId": "3519ebca-266c-41fe-8e89-8b5dd89a94e1"
      },
      "outputs": [
        {
          "output_type": "execute_result",
          "data": {
            "text/plain": [
              "array([[0., 0., 0., ..., 0., 0., 0.],\n",
              "       [0., 0., 0., ..., 0., 0., 0.],\n",
              "       [0., 0., 0., ..., 0., 0., 0.],\n",
              "       ...,\n",
              "       [0., 0., 0., ..., 0., 0., 0.],\n",
              "       [0., 0., 0., ..., 0., 0., 0.],\n",
              "       [0., 0., 0., ..., 0., 0., 0.]])"
            ]
          },
          "metadata": {},
          "execution_count": 14
        }
      ],
      "source": [
        "train_news_cleaned,vectorized=bow_tfidf(df_train['text_cleaned'], None)\n",
        "train_news_cleaned"
      ]
    },
    {
      "cell_type": "code",
      "execution_count": 15,
      "metadata": {
        "colab": {
          "base_uri": "https://localhost:8080/"
        },
        "id": "oZ_lcyMrNW04",
        "outputId": "eab22f85-7d4d-4cd0-a86b-e3f422ec0aa4"
      },
      "outputs": [
        {
          "output_type": "execute_result",
          "data": {
            "text/plain": [
              "12396"
            ]
          },
          "metadata": {},
          "execution_count": 15
        }
      ],
      "source": [
        "len(df_train[df_train['source']=='fake'])"
      ]
    },
    {
      "cell_type": "code",
      "execution_count": 16,
      "metadata": {
        "colab": {
          "base_uri": "https://localhost:8080/"
        },
        "id": "T4l4AH9ZNfLn",
        "outputId": "3926477d-465b-45d8-9956-251263eef14f"
      },
      "outputs": [
        {
          "output_type": "execute_result",
          "data": {
            "text/plain": [
              "11175"
            ]
          },
          "metadata": {},
          "execution_count": 16
        }
      ],
      "source": [
        "len(df_train[df_train['source']=='true'])"
      ]
    },
    {
      "cell_type": "code",
      "execution_count": 17,
      "metadata": {
        "id": "92PUyGHJNkl2"
      },
      "outputs": [],
      "source": [
        "clf= MLPClassifier(activation='logistic',\n",
        "                   solver='adam',\n",
        "                   max_iter=50,\n",
        "                   hidden_layer_sizes=(5),\n",
        "                   tol=0.01,\n",
        "                   verbose=True\n",
        "                   )"
      ]
    },
    {
      "cell_type": "code",
      "execution_count": 18,
      "metadata": {
        "colab": {
          "base_uri": "https://localhost:8080/",
          "height": 578
        },
        "id": "TfJU8go1NzUS",
        "outputId": "71d1b366-410c-4c34-9637-4ba17f886cf5"
      },
      "outputs": [
        {
          "output_type": "stream",
          "name": "stdout",
          "text": [
            "Iteration 1, loss = 0.68275715\n",
            "Iteration 2, loss = 0.64540427\n",
            "Iteration 3, loss = 0.57945282\n",
            "Iteration 4, loss = 0.49678697\n",
            "Iteration 5, loss = 0.41960451\n",
            "Iteration 6, loss = 0.35592678\n",
            "Iteration 7, loss = 0.30508798\n",
            "Iteration 8, loss = 0.26447844\n",
            "Iteration 9, loss = 0.23158807\n",
            "Iteration 10, loss = 0.20456770\n",
            "Iteration 11, loss = 0.18206602\n",
            "Iteration 12, loss = 0.16310183\n",
            "Iteration 13, loss = 0.14687521\n",
            "Iteration 14, loss = 0.13296115\n",
            "Iteration 15, loss = 0.12083396\n",
            "Iteration 16, loss = 0.11028910\n",
            "Iteration 17, loss = 0.10099213\n",
            "Iteration 18, loss = 0.09277674\n",
            "Iteration 19, loss = 0.08550158\n",
            "Iteration 20, loss = 0.07900598\n",
            "Iteration 21, loss = 0.07320884\n",
            "Iteration 22, loss = 0.06799444\n",
            "Iteration 23, loss = 0.06329180\n",
            "Iteration 24, loss = 0.05903936\n",
            "Iteration 25, loss = 0.05520108\n",
            "Iteration 26, loss = 0.05170468\n",
            "Iteration 27, loss = 0.04852538\n",
            "Training loss did not improve more than tol=0.010000 for 10 consecutive epochs. Stopping.\n"
          ]
        },
        {
          "output_type": "execute_result",
          "data": {
            "text/plain": [
              "MLPClassifier(activation='logistic', hidden_layer_sizes=5, max_iter=50,\n",
              "              tol=0.01, verbose=True)"
            ],
            "text/html": [
              "<style>#sk-container-id-1 {color: black;}#sk-container-id-1 pre{padding: 0;}#sk-container-id-1 div.sk-toggleable {background-color: white;}#sk-container-id-1 label.sk-toggleable__label {cursor: pointer;display: block;width: 100%;margin-bottom: 0;padding: 0.3em;box-sizing: border-box;text-align: center;}#sk-container-id-1 label.sk-toggleable__label-arrow:before {content: \"▸\";float: left;margin-right: 0.25em;color: #696969;}#sk-container-id-1 label.sk-toggleable__label-arrow:hover:before {color: black;}#sk-container-id-1 div.sk-estimator:hover label.sk-toggleable__label-arrow:before {color: black;}#sk-container-id-1 div.sk-toggleable__content {max-height: 0;max-width: 0;overflow: hidden;text-align: left;background-color: #f0f8ff;}#sk-container-id-1 div.sk-toggleable__content pre {margin: 0.2em;color: black;border-radius: 0.25em;background-color: #f0f8ff;}#sk-container-id-1 input.sk-toggleable__control:checked~div.sk-toggleable__content {max-height: 200px;max-width: 100%;overflow: auto;}#sk-container-id-1 input.sk-toggleable__control:checked~label.sk-toggleable__label-arrow:before {content: \"▾\";}#sk-container-id-1 div.sk-estimator input.sk-toggleable__control:checked~label.sk-toggleable__label {background-color: #d4ebff;}#sk-container-id-1 div.sk-label input.sk-toggleable__control:checked~label.sk-toggleable__label {background-color: #d4ebff;}#sk-container-id-1 input.sk-hidden--visually {border: 0;clip: rect(1px 1px 1px 1px);clip: rect(1px, 1px, 1px, 1px);height: 1px;margin: -1px;overflow: hidden;padding: 0;position: absolute;width: 1px;}#sk-container-id-1 div.sk-estimator {font-family: monospace;background-color: #f0f8ff;border: 1px dotted black;border-radius: 0.25em;box-sizing: border-box;margin-bottom: 0.5em;}#sk-container-id-1 div.sk-estimator:hover {background-color: #d4ebff;}#sk-container-id-1 div.sk-parallel-item::after {content: \"\";width: 100%;border-bottom: 1px solid gray;flex-grow: 1;}#sk-container-id-1 div.sk-label:hover label.sk-toggleable__label {background-color: #d4ebff;}#sk-container-id-1 div.sk-serial::before {content: \"\";position: absolute;border-left: 1px solid gray;box-sizing: border-box;top: 0;bottom: 0;left: 50%;z-index: 0;}#sk-container-id-1 div.sk-serial {display: flex;flex-direction: column;align-items: center;background-color: white;padding-right: 0.2em;padding-left: 0.2em;position: relative;}#sk-container-id-1 div.sk-item {position: relative;z-index: 1;}#sk-container-id-1 div.sk-parallel {display: flex;align-items: stretch;justify-content: center;background-color: white;position: relative;}#sk-container-id-1 div.sk-item::before, #sk-container-id-1 div.sk-parallel-item::before {content: \"\";position: absolute;border-left: 1px solid gray;box-sizing: border-box;top: 0;bottom: 0;left: 50%;z-index: -1;}#sk-container-id-1 div.sk-parallel-item {display: flex;flex-direction: column;z-index: 1;position: relative;background-color: white;}#sk-container-id-1 div.sk-parallel-item:first-child::after {align-self: flex-end;width: 50%;}#sk-container-id-1 div.sk-parallel-item:last-child::after {align-self: flex-start;width: 50%;}#sk-container-id-1 div.sk-parallel-item:only-child::after {width: 0;}#sk-container-id-1 div.sk-dashed-wrapped {border: 1px dashed gray;margin: 0 0.4em 0.5em 0.4em;box-sizing: border-box;padding-bottom: 0.4em;background-color: white;}#sk-container-id-1 div.sk-label label {font-family: monospace;font-weight: bold;display: inline-block;line-height: 1.2em;}#sk-container-id-1 div.sk-label-container {text-align: center;}#sk-container-id-1 div.sk-container {/* jupyter's `normalize.less` sets `[hidden] { display: none; }` but bootstrap.min.css set `[hidden] { display: none !important; }` so we also need the `!important` here to be able to override the default hidden behavior on the sphinx rendered scikit-learn.org. See: https://github.com/scikit-learn/scikit-learn/issues/21755 */display: inline-block !important;position: relative;}#sk-container-id-1 div.sk-text-repr-fallback {display: none;}</style><div id=\"sk-container-id-1\" class=\"sk-top-container\"><div class=\"sk-text-repr-fallback\"><pre>MLPClassifier(activation=&#x27;logistic&#x27;, hidden_layer_sizes=5, max_iter=50,\n",
              "              tol=0.01, verbose=True)</pre><b>In a Jupyter environment, please rerun this cell to show the HTML representation or trust the notebook. <br />On GitHub, the HTML representation is unable to render, please try loading this page with nbviewer.org.</b></div><div class=\"sk-container\" hidden><div class=\"sk-item\"><div class=\"sk-estimator sk-toggleable\"><input class=\"sk-toggleable__control sk-hidden--visually\" id=\"sk-estimator-id-1\" type=\"checkbox\" checked><label for=\"sk-estimator-id-1\" class=\"sk-toggleable__label sk-toggleable__label-arrow\">MLPClassifier</label><div class=\"sk-toggleable__content\"><pre>MLPClassifier(activation=&#x27;logistic&#x27;, hidden_layer_sizes=5, max_iter=50,\n",
              "              tol=0.01, verbose=True)</pre></div></div></div></div></div>"
            ]
          },
          "metadata": {},
          "execution_count": 18
        }
      ],
      "source": [
        "clf.fit(train_news_cleaned,df_train['source'])"
      ]
    },
    {
      "cell_type": "code",
      "execution_count": 19,
      "metadata": {
        "id": "uhoVBrNYRgDt"
      },
      "outputs": [],
      "source": [
        "with open('fake_news_filter.pkl', 'wb') as f:\n",
        "    pickle.dump(clf, f)"
      ]
    },
    {
      "cell_type": "code",
      "execution_count": 20,
      "metadata": {
        "id": "zvIUPBD3RmI8"
      },
      "outputs": [],
      "source": [
        "with open('fake_news_filter.pkl', 'rb') as f:\n",
        "    clf = pickle.load(f)"
      ]
    },
    {
      "cell_type": "code",
      "execution_count": 21,
      "metadata": {
        "colab": {
          "base_uri": "https://localhost:8080/"
        },
        "id": "-F8t7px6Rq4f",
        "outputId": "57593dc3-d76f-47c1-910c-674c53651874"
      },
      "outputs": [
        {
          "output_type": "execute_result",
          "data": {
            "text/plain": [
              "array([[0., 0., 0., ..., 0., 0., 0.],\n",
              "       [0., 0., 0., ..., 0., 0., 0.],\n",
              "       [0., 0., 0., ..., 0., 0., 0.],\n",
              "       ...,\n",
              "       [0., 0., 0., ..., 0., 0., 0.],\n",
              "       [0., 0., 0., ..., 0., 0., 0.],\n",
              "       [0., 0., 0., ..., 0., 0., 0.]])"
            ]
          },
          "metadata": {},
          "execution_count": 21
        }
      ],
      "source": [
        "test_news_cleaned,vectorized=bow_tfidf(df_test['text_cleaned'], vectorized)\n",
        "test_news_cleaned"
      ]
    },
    {
      "cell_type": "code",
      "execution_count": 22,
      "metadata": {
        "colab": {
          "base_uri": "https://localhost:8080/"
        },
        "id": "0BBSFFwTRxje",
        "outputId": "c7b0a9f5-32f4-4a53-e528-5ef0a66c4fb4"
      },
      "outputs": [
        {
          "output_type": "execute_result",
          "data": {
            "text/plain": [
              "0.9753086419753086"
            ]
          },
          "metadata": {},
          "execution_count": 22
        }
      ],
      "source": [
        "clf.score(test_news_cleaned,df_test['source'])"
      ]
    },
    {
      "cell_type": "code",
      "execution_count": 23,
      "metadata": {
        "colab": {
          "base_uri": "https://localhost:8080/"
        },
        "id": "KvocLn02R6T3",
        "outputId": "3f6438a9-0a1c-4782-a711-c1eb595addb8"
      },
      "outputs": [
        {
          "output_type": "stream",
          "name": "stdout",
          "text": [
            "Iteration 1, loss = 0.67388324\n",
            "Iteration 2, loss = 0.60634936\n",
            "Iteration 3, loss = 0.50987693\n",
            "Iteration 4, loss = 0.41375786\n",
            "Iteration 5, loss = 0.33607729\n",
            "Iteration 6, loss = 0.27715639\n",
            "Iteration 7, loss = 0.23259802\n",
            "Iteration 8, loss = 0.19830472\n",
            "Iteration 9, loss = 0.17132264\n",
            "Iteration 10, loss = 0.14969870\n",
            "Iteration 11, loss = 0.13206617\n",
            "Iteration 12, loss = 0.11743660\n",
            "Iteration 13, loss = 0.10513838\n",
            "Iteration 14, loss = 0.09468635\n",
            "Iteration 15, loss = 0.08570232\n",
            "Iteration 16, loss = 0.07790201\n",
            "Iteration 17, loss = 0.07110377\n",
            "Iteration 18, loss = 0.06512025\n",
            "Iteration 19, loss = 0.05983961\n",
            "Iteration 20, loss = 0.05513984\n",
            "Iteration 21, loss = 0.05094637\n",
            "Iteration 22, loss = 0.04720480\n",
            "Iteration 23, loss = 0.04384096\n",
            "Iteration 24, loss = 0.04082864\n",
            "Iteration 25, loss = 0.03811295\n",
            "Training loss did not improve more than tol=0.010000 for 10 consecutive epochs. Stopping.\n",
            "Iteration 1, loss = 0.68052288\n",
            "Iteration 2, loss = 0.63685302\n",
            "Iteration 3, loss = 0.56175592\n",
            "Iteration 4, loss = 0.47640792\n",
            "Iteration 5, loss = 0.40435470\n",
            "Iteration 6, loss = 0.34796697\n",
            "Iteration 7, loss = 0.30357466\n",
            "Iteration 8, loss = 0.26789971\n",
            "Iteration 9, loss = 0.23860413\n",
            "Iteration 10, loss = 0.21408916\n",
            "Iteration 11, loss = 0.19328302\n",
            "Iteration 12, loss = 0.17544221\n",
            "Iteration 13, loss = 0.15994313\n",
            "Iteration 14, loss = 0.14638552\n",
            "Iteration 15, loss = 0.13445579\n",
            "Iteration 16, loss = 0.12388788\n",
            "Iteration 17, loss = 0.11446930\n",
            "Iteration 18, loss = 0.10603119\n",
            "Iteration 19, loss = 0.09842595\n",
            "Iteration 20, loss = 0.09155634\n",
            "Iteration 21, loss = 0.08533516\n",
            "Iteration 22, loss = 0.07967353\n",
            "Iteration 23, loss = 0.07451053\n",
            "Iteration 24, loss = 0.06978878\n",
            "Iteration 25, loss = 0.06545246\n",
            "Iteration 26, loss = 0.06148412\n",
            "Iteration 27, loss = 0.05783052\n",
            "Training loss did not improve more than tol=0.010000 for 10 consecutive epochs. Stopping.\n",
            "Iteration 1, loss = 0.69998897\n",
            "Iteration 2, loss = 0.63503729\n",
            "Iteration 3, loss = 0.57590431\n",
            "Iteration 4, loss = 0.50288129\n",
            "Iteration 5, loss = 0.42744389\n",
            "Iteration 6, loss = 0.36110859\n",
            "Iteration 7, loss = 0.30706933\n",
            "Iteration 8, loss = 0.26380789\n",
            "Iteration 9, loss = 0.22891936\n",
            "Iteration 10, loss = 0.20046129\n",
            "Iteration 11, loss = 0.17686834\n",
            "Iteration 12, loss = 0.15711404\n",
            "Iteration 13, loss = 0.14042967\n",
            "Iteration 14, loss = 0.12619711\n",
            "Iteration 15, loss = 0.11396848\n",
            "Iteration 16, loss = 0.10336129\n",
            "Iteration 17, loss = 0.09412153\n",
            "Iteration 18, loss = 0.08601529\n",
            "Iteration 19, loss = 0.07888460\n",
            "Iteration 20, loss = 0.07255246\n",
            "Iteration 21, loss = 0.06693829\n",
            "Iteration 22, loss = 0.06190493\n",
            "Iteration 23, loss = 0.05740363\n",
            "Iteration 24, loss = 0.05334408\n",
            "Iteration 25, loss = 0.04969472\n",
            "Iteration 26, loss = 0.04638467\n",
            "Iteration 27, loss = 0.04338537\n",
            "Training loss did not improve more than tol=0.010000 for 10 consecutive epochs. Stopping.\n"
          ]
        }
      ],
      "source": [
        "X_vectorized = vectorizer.fit_transform(df_news['text_cleaned'])\n",
        "cross_val_scores = cross_val_score(clf, X_vectorized, df_news['source'], cv=3, scoring='accuracy')"
      ]
    },
    {
      "cell_type": "code",
      "execution_count": 24,
      "metadata": {
        "id": "uTymaouaThWE"
      },
      "outputs": [],
      "source": [
        "with open('cross_val_scores.pkl', 'wb') as f:\n",
        "    pickle.dump(cross_val_scores, f)"
      ]
    },
    {
      "cell_type": "code",
      "execution_count": 25,
      "metadata": {
        "id": "ryi5ylWkTomU"
      },
      "outputs": [],
      "source": [
        "with open('cross_val_scores.pkl', 'rb') as f:\n",
        "    cross_val_scores = pickle.load(f)"
      ]
    },
    {
      "cell_type": "code",
      "execution_count": 26,
      "metadata": {
        "colab": {
          "base_uri": "https://localhost:8080/"
        },
        "id": "slFoQ8JCTt7Y",
        "outputId": "5afd7171-a533-46cf-d9b3-890b642848a1"
      },
      "outputs": [
        {
          "output_type": "execute_result",
          "data": {
            "text/plain": [
              "array([0.9354537 , 0.92529734, 0.96625685])"
            ]
          },
          "metadata": {},
          "execution_count": 26
        }
      ],
      "source": [
        "cross_val_scores"
      ]
    },
    {
      "cell_type": "code",
      "execution_count": 27,
      "metadata": {
        "colab": {
          "base_uri": "https://localhost:8080/"
        },
        "id": "-7cw7FmuT0QD",
        "outputId": "d89f2919-ea68-4c98-bb03-1f4fe23cd37c"
      },
      "outputs": [
        {
          "output_type": "execute_result",
          "data": {
            "text/plain": [
              "0.9423359615127622"
            ]
          },
          "metadata": {},
          "execution_count": 27
        }
      ],
      "source": [
        "cross_val_scores.mean()"
      ]
    },
    {
      "cell_type": "markdown",
      "metadata": {
        "id": "2vIGNvtYT3eE"
      },
      "source": [
        "3. **Dataset Analysis: Fake Dataset**"
      ]
    },
    {
      "cell_type": "code",
      "execution_count": 28,
      "metadata": {
        "colab": {
          "base_uri": "https://localhost:8080/",
          "height": 304
        },
        "id": "yZcT5vyAocdM",
        "outputId": "228f6afb-7baa-45d8-990f-c9ecdcc4693d"
      },
      "outputs": [
        {
          "output_type": "execute_result",
          "data": {
            "text/plain": [
              "subject\n",
              "News               9050\n",
              "politics           6841\n",
              "left-news          4459\n",
              "Government News    1570\n",
              "US_News             783\n",
              "Middle-east         778\n",
              "Name: count, dtype: int64"
            ],
            "text/html": [
              "<div>\n",
              "<style scoped>\n",
              "    .dataframe tbody tr th:only-of-type {\n",
              "        vertical-align: middle;\n",
              "    }\n",
              "\n",
              "    .dataframe tbody tr th {\n",
              "        vertical-align: top;\n",
              "    }\n",
              "\n",
              "    .dataframe thead th {\n",
              "        text-align: right;\n",
              "    }\n",
              "</style>\n",
              "<table border=\"1\" class=\"dataframe\">\n",
              "  <thead>\n",
              "    <tr style=\"text-align: right;\">\n",
              "      <th></th>\n",
              "      <th>count</th>\n",
              "    </tr>\n",
              "    <tr>\n",
              "      <th>subject</th>\n",
              "      <th></th>\n",
              "    </tr>\n",
              "  </thead>\n",
              "  <tbody>\n",
              "    <tr>\n",
              "      <th>News</th>\n",
              "      <td>9050</td>\n",
              "    </tr>\n",
              "    <tr>\n",
              "      <th>politics</th>\n",
              "      <td>6841</td>\n",
              "    </tr>\n",
              "    <tr>\n",
              "      <th>left-news</th>\n",
              "      <td>4459</td>\n",
              "    </tr>\n",
              "    <tr>\n",
              "      <th>Government News</th>\n",
              "      <td>1570</td>\n",
              "    </tr>\n",
              "    <tr>\n",
              "      <th>US_News</th>\n",
              "      <td>783</td>\n",
              "    </tr>\n",
              "    <tr>\n",
              "      <th>Middle-east</th>\n",
              "      <td>778</td>\n",
              "    </tr>\n",
              "  </tbody>\n",
              "</table>\n",
              "</div><br><label><b>dtype:</b> int64</label>"
            ]
          },
          "metadata": {},
          "execution_count": 28
        }
      ],
      "source": [
        "df_fake['subject'].value_counts()"
      ]
    },
    {
      "cell_type": "code",
      "execution_count": 29,
      "metadata": {
        "id": "EcobyaW2oiUd"
      },
      "outputs": [],
      "source": [
        "fake_text_cleaned=data_cleaner(df_fake['text'])"
      ]
    },
    {
      "cell_type": "code",
      "execution_count": 30,
      "metadata": {
        "id": "GHeGMJoEtL86"
      },
      "outputs": [],
      "source": [
        "with open('fake_text_cleaned.pkl', 'wb') as f:\n",
        "    pickle.dump(fake_text_cleaned, f)"
      ]
    },
    {
      "cell_type": "code",
      "execution_count": 31,
      "metadata": {
        "id": "ceBlwoYOtSbu"
      },
      "outputs": [],
      "source": [
        "with open('fake_text_cleaned.pkl', 'rb') as f:\n",
        "    fake_text_cleaned = pickle.load(f)"
      ]
    },
    {
      "cell_type": "code",
      "execution_count": 32,
      "metadata": {
        "id": "UNIrXx9utWba"
      },
      "outputs": [],
      "source": [
        "df_fake['text_cleaned']=fake_text_cleaned"
      ]
    },
    {
      "cell_type": "code",
      "execution_count": 33,
      "metadata": {
        "id": "pMbZgt8dtams"
      },
      "outputs": [],
      "source": [
        "def sent_to_words(items):\n",
        "  for item in items:\n",
        "    yield(simple_preprocess(item,deacc=True))"
      ]
    },
    {
      "cell_type": "code",
      "execution_count": 34,
      "metadata": {
        "id": "dzGExSuOtkjh"
      },
      "outputs": [],
      "source": [
        "def topic_modeling(subject, num_topics=5, passes=10):\n",
        "    data_words = list(sent_to_words(subject))\n",
        "\n",
        "    id2word = corpora.Dictionary(data_words)\n",
        "\n",
        "    corpus = [id2word.doc2bow(text) for text in data_words]\n",
        "\n",
        "    lda_model = gensim.models.LdaMulticore(\n",
        "        corpus=corpus,\n",
        "        id2word=id2word,\n",
        "        num_topics=num_topics,\n",
        "        passes=passes\n",
        "    )\n",
        "\n",
        "    for topic_num in range(num_topics):\n",
        "        pprint(lda_model.print_topic(topic_num))\n",
        "\n",
        "    fake_lda = lda_model[corpus]\n",
        "\n",
        "    return lda_model, fake_lda"
      ]
    },
    {
      "cell_type": "code",
      "execution_count": 35,
      "metadata": {
        "id": "zL0f1UkOuKrF"
      },
      "outputs": [],
      "source": [
        "news_fake = df_fake[df_fake['subject'] == 'News']['text_cleaned']\n",
        "politics_fake = df_fake[df_fake['subject'] == 'politics']['text_cleaned']\n",
        "left_fake = df_fake[df_fake['subject'] == 'left-news']['text_cleaned']\n",
        "government_fake = df_fake[df_fake['subject'] == 'Government News']['text_cleaned']\n",
        "us_fake = df_fake[df_fake['subject'] == 'US_News']['text_cleaned']\n",
        "middleeast_fake = df_fake[df_fake['subject'] == 'Middle-east']['text_cleaned']"
      ]
    },
    {
      "cell_type": "code",
      "execution_count": 36,
      "metadata": {
        "colab": {
          "base_uri": "https://localhost:8080/"
        },
        "id": "dm0umh96uP1w",
        "outputId": "1af1998f-83ad-460f-8214-0e11fb83009d"
      },
      "outputs": [
        {
          "output_type": "stream",
          "name": "stdout",
          "text": [
            "('0.012*\"people\" + 0.008*\"republicans\" + 0.007*\"state\" + 0.006*\"image\" + '\n",
            " '0.005*\"bill\" + 0.005*\"republican\" + 0.004*\"states\" + 0.004*\"trump\" + '\n",
            " '0.004*\"time\" + 0.004*\"obama\"')\n",
            "('0.022*\"trump\" + 0.011*\"president\" + 0.009*\"obama\" + 0.008*\"russia\" + '\n",
            " '0.007*\"people\" + 0.006*\"donald\" + 0.006*\"realdonaldtrump\" + 0.006*\"image\" + '\n",
            " '0.005*\"january\" + 0.004*\"house\"')\n",
            "('0.020*\"trump\" + 0.015*\"white\" + 0.009*\"people\" + 0.007*\"black\" + '\n",
            " '0.006*\"president\" + 0.006*\"image\" + 0.005*\"donald\" + 0.005*\"house\" + '\n",
            " '0.004*\"racist\" + 0.004*\"women\"')\n",
            "('0.009*\"people\" + 0.007*\"president\" + 0.007*\"trump\" + 0.006*\"court\" + '\n",
            " '0.006*\"image\" + 0.004*\"water\" + 0.004*\"supreme\" + 0.003*\"time\" + '\n",
            " '0.003*\"women\" + 0.003*\"republicans\"')\n",
            "('0.059*\"trump\" + 0.014*\"donald\" + 0.009*\"people\" + 0.009*\"president\" + '\n",
            " '0.007*\"clinton\" + 0.007*\"image\" + 0.007*\"campaign\" + 0.006*\"hillary\" + '\n",
            " '0.006*\"republican\" + 0.005*\"time\"')\n"
          ]
        },
        {
          "output_type": "execute_result",
          "data": {
            "text/plain": [
              "(<gensim.models.ldamulticore.LdaMulticore at 0x7f1c1c0195d0>,\n",
              " <gensim.interfaces.TransformedCorpus at 0x7f1c1aa7ca90>)"
            ]
          },
          "metadata": {},
          "execution_count": 36
        }
      ],
      "source": [
        "topic_modeling(news_fake)"
      ]
    },
    {
      "cell_type": "code",
      "execution_count": 37,
      "metadata": {
        "colab": {
          "base_uri": "https://localhost:8080/"
        },
        "id": "pp4wGJ9SvCk-",
        "outputId": "e7e5c9e1-22a3-4601-d52c-6cced23c8721"
      },
      "outputs": [
        {
          "output_type": "stream",
          "name": "stdout",
          "text": [
            "('0.013*\"trump\" + 0.010*\"people\" + 0.009*\"president\" + 0.007*\"black\" + '\n",
            " '0.007*\"obama\" + 0.006*\"police\" + 0.005*\"white\" + 0.004*\"america\" + '\n",
            " '0.004*\"country\" + 0.003*\"american\"')\n",
            "('0.009*\"clinton\" + 0.005*\"trump\" + 0.005*\"state\" + 0.004*\"people\" + '\n",
            " '0.004*\"hillary\" + 0.004*\"president\" + 0.004*\"obama\" + 0.004*\"news\" + '\n",
            " '0.004*\"group\" + 0.003*\"america\"')\n",
            "('0.005*\"illegal\" + 0.005*\"immigration\" + 0.005*\"people\" + 0.005*\"border\" + '\n",
            " '0.005*\"obama\" + 0.004*\"federal\" + 0.004*\"state\" + 0.004*\"states\" + '\n",
            " '0.004*\"police\" + 0.004*\"president\"')\n",
            "('0.019*\"clinton\" + 0.015*\"trump\" + 0.011*\"hillary\" + 0.007*\"state\" + '\n",
            " '0.007*\"president\" + 0.007*\"campaign\" + 0.005*\"former\" + 0.005*\"election\" + '\n",
            " '0.005*\"people\" + 0.004*\"house\"')\n",
            "('0.019*\"trump\" + 0.012*\"president\" + 0.008*\"obama\" + 0.006*\"hillary\" + '\n",
            " '0.006*\"news\" + 0.006*\"people\" + 0.006*\"house\" + 0.005*\"donald\" + '\n",
            " '0.004*\"white\" + 0.004*\"media\"')\n"
          ]
        },
        {
          "output_type": "execute_result",
          "data": {
            "text/plain": [
              "(<gensim.models.ldamulticore.LdaMulticore at 0x7f1c1aea9540>,\n",
              " <gensim.interfaces.TransformedCorpus at 0x7f1c16069de0>)"
            ]
          },
          "metadata": {},
          "execution_count": 37
        }
      ],
      "source": [
        "topic_modeling(politics_fake)"
      ]
    },
    {
      "cell_type": "code",
      "execution_count": 38,
      "metadata": {
        "colab": {
          "base_uri": "https://localhost:8080/"
        },
        "id": "U5194K5MvjMe",
        "outputId": "9269ad90-2fda-4fc7-cc84-bbd59c2f8743"
      },
      "outputs": [
        {
          "output_type": "stream",
          "name": "stdout",
          "text": [
            "('0.010*\"obama\" + 0.008*\"trump\" + 0.007*\"students\" + 0.007*\"president\" + '\n",
            " '0.006*\"white\" + 0.006*\"people\" + 0.004*\"university\" + 0.004*\"school\" + '\n",
            " '0.003*\"state\" + 0.003*\"black\"')\n",
            "('0.006*\"hillary\" + 0.006*\"trump\" + 0.006*\"president\" + 0.005*\"people\" + '\n",
            " '0.005*\"black\" + 0.005*\"clinton\" + 0.004*\"white\" + 0.004*\"time\" + '\n",
            " '0.003*\"obama\" + 0.003*\"state\"')\n",
            "('0.007*\"president\" + 0.006*\"obama\" + 0.006*\"people\" + 0.005*\"trump\" + '\n",
            " '0.005*\"government\" + 0.005*\"state\" + 0.005*\"states\" + 0.004*\"united\" + '\n",
            " '0.004*\"american\" + 0.004*\"federal\"')\n",
            "('0.021*\"trump\" + 0.012*\"clinton\" + 0.010*\"hillary\" + 0.008*\"president\" + '\n",
            " '0.007*\"people\" + 0.006*\"news\" + 0.005*\"donald\" + 0.005*\"media\" + '\n",
            " '0.004*\"campaign\" + 0.004*\"white\"')\n",
            "('0.019*\"police\" + 0.006*\"officers\" + 0.006*\"people\" + 0.005*\"officer\" + '\n",
            " '0.005*\"black\" + 0.004*\"city\" + 0.004*\"county\" + 0.004*\"news\" + '\n",
            " '0.004*\"school\" + 0.003*\"video\"')\n"
          ]
        },
        {
          "output_type": "execute_result",
          "data": {
            "text/plain": [
              "(<gensim.models.ldamulticore.LdaMulticore at 0x7f1c1ca6ebf0>,\n",
              " <gensim.interfaces.TransformedCorpus at 0x7f1c1606bca0>)"
            ]
          },
          "metadata": {},
          "execution_count": 38
        }
      ],
      "source": [
        "topic_modeling(left_fake)"
      ]
    },
    {
      "cell_type": "code",
      "execution_count": 39,
      "metadata": {
        "colab": {
          "base_uri": "https://localhost:8080/"
        },
        "id": "Nf_-8wF8v5m3",
        "outputId": "3235f74f-2bcc-4b85-c557-2eee262b1c1e"
      },
      "outputs": [
        {
          "output_type": "stream",
          "name": "stdout",
          "text": [
            "('0.006*\"state\" + 0.006*\"people\" + 0.005*\"federal\" + 0.004*\"states\" + '\n",
            " '0.004*\"government\" + 0.004*\"food\" + 0.004*\"year\" + 0.004*\"obama\" + '\n",
            " '0.004*\"million\" + 0.003*\"years\"')\n",
            "('0.015*\"clinton\" + 0.008*\"state\" + 0.008*\"department\" + 0.007*\"iran\" + '\n",
            " '0.007*\"obama\" + 0.006*\"hillary\" + 0.006*\"president\" + 0.005*\"security\" + '\n",
            " '0.005*\"email\" + 0.005*\"trump\"')\n",
            "('0.016*\"obama\" + 0.011*\"president\" + 0.006*\"government\" + 0.005*\"people\" + '\n",
            " '0.004*\"trump\" + 0.004*\"house\" + 0.004*\"american\" + 0.004*\"first\" + '\n",
            " '0.004*\"state\" + 0.004*\"senate\"')\n",
            "('0.006*\"court\" + 0.005*\"people\" + 0.005*\"police\" + 0.004*\"obama\" + '\n",
            " '0.004*\"state\" + 0.004*\"president\" + 0.004*\"government\" + 0.004*\"house\" + '\n",
            " '0.004*\"federal\" + 0.003*\"muslim\"')\n",
            "('0.007*\"people\" + 0.005*\"trump\" + 0.005*\"united\" + 0.004*\"president\" + '\n",
            " '0.004*\"obama\" + 0.004*\"country\" + 0.004*\"border\" + 0.004*\"time\" + '\n",
            " '0.004*\"states\" + 0.004*\"state\"')\n"
          ]
        },
        {
          "output_type": "execute_result",
          "data": {
            "text/plain": [
              "(<gensim.models.ldamulticore.LdaMulticore at 0x7f1c1b0525c0>,\n",
              " <gensim.interfaces.TransformedCorpus at 0x7f1c1606abf0>)"
            ]
          },
          "metadata": {},
          "execution_count": 39
        }
      ],
      "source": [
        "  topic_modeling(government_fake)"
      ]
    },
    {
      "cell_type": "code",
      "execution_count": 40,
      "metadata": {
        "colab": {
          "base_uri": "https://localhost:8080/"
        },
        "id": "OnMG98eZwmea",
        "outputId": "73163ae4-c186-4560-e2e8-bac8c82fae4c"
      },
      "outputs": [
        {
          "output_type": "stream",
          "name": "stdout",
          "text": [
            "('0.007*\"trump\" + 0.005*\"wire\" + 0.005*\"president\" + 0.005*\"century\" + '\n",
            " '0.005*\"people\" + 0.004*\"world\" + 0.004*\"news\" + 0.003*\"israel\" + '\n",
            " '0.003*\"clinton\" + 0.003*\"political\"')\n",
            "('0.011*\"media\" + 0.009*\"news\" + 0.007*\"story\" + 0.006*\"wire\" + 0.005*\"trump\" '\n",
            " '+ 0.004*\"political\" + 0.004*\"fake\" + 0.004*\"century\" + 0.004*\"shooter\" + '\n",
            " '0.004*\"many\"')\n",
            "('0.009*\"trump\" + 0.008*\"syria\" + 0.008*\"clinton\" + 0.007*\"russia\" + '\n",
            " '0.007*\"media\" + 0.006*\"government\" + 0.006*\"state\" + 0.006*\"wire\" + '\n",
            " '0.006*\"news\" + 0.005*\"russian\"')\n",
            "('0.011*\"wire\" + 0.007*\"trump\" + 0.006*\"syria\" + 0.005*\"century\" + '\n",
            " '0.005*\"news\" + 0.004*\"world\" + 0.004*\"week\" + 0.004*\"patrick\" + '\n",
            " '0.004*\"political\" + 0.004*\"president\"')\n",
            "('0.010*\"room\" + 0.010*\"boiler\" + 0.008*\"trump\" + 0.007*\"radio\" + 0.007*\"wire\" '\n",
            " '+ 0.006*\"broadcast\" + 0.005*\"political\" + 0.005*\"media\" + 0.004*\"another\" + '\n",
            " '0.004*\"current\"')\n"
          ]
        },
        {
          "output_type": "execute_result",
          "data": {
            "text/plain": [
              "(<gensim.models.ldamulticore.LdaMulticore at 0x7f1d1f69b880>,\n",
              " <gensim.interfaces.TransformedCorpus at 0x7f1c1ab32800>)"
            ]
          },
          "metadata": {},
          "execution_count": 40
        }
      ],
      "source": [
        "topic_modeling(us_fake)"
      ]
    },
    {
      "cell_type": "code",
      "execution_count": 41,
      "metadata": {
        "colab": {
          "base_uri": "https://localhost:8080/"
        },
        "id": "YF7i0cKFwxnj",
        "outputId": "2fee08a3-1e8c-4787-cfae-02d31c315668"
      },
      "outputs": [
        {
          "output_type": "stream",
          "name": "stdout",
          "text": [
            "('0.008*\"media\" + 0.007*\"room\" + 0.007*\"wire\" + 0.007*\"boiler\" + '\n",
            " '0.006*\"political\" + 0.006*\"news\" + 0.006*\"radio\" + 0.005*\"story\" + '\n",
            " '0.004*\"another\" + 0.004*\"episode\"')\n",
            "('0.013*\"trump\" + 0.011*\"news\" + 0.010*\"media\" + 0.009*\"wire\" + '\n",
            " '0.007*\"clinton\" + 0.006*\"century\" + 0.006*\"election\" + 0.005*\"political\" + '\n",
            " '0.005*\"hillary\" + 0.005*\"fake\"')\n",
            "('0.009*\"media\" + 0.006*\"story\" + 0.005*\"wire\" + 0.005*\"shooter\" + '\n",
            " '0.004*\"news\" + 0.004*\"police\" + 0.004*\"federal\" + 0.004*\"century\" + '\n",
            " '0.004*\"event\" + 0.004*\"shooting\"')\n",
            "('0.010*\"syria\" + 0.007*\"government\" + 0.006*\"wire\" + 0.005*\"state\" + '\n",
            " '0.005*\"trump\" + 0.005*\"russia\" + 0.005*\"syrian\" + 0.005*\"media\" + '\n",
            " '0.005*\"intelligence\" + 0.004*\"president\"')\n",
            "('0.015*\"trump\" + 0.014*\"clinton\" + 0.007*\"president\" + 0.005*\"election\" + '\n",
            " '0.005*\"wire\" + 0.005*\"hillary\" + 0.005*\"campaign\" + 0.004*\"obama\" + '\n",
            " '0.004*\"century\" + 0.004*\"state\"')\n"
          ]
        },
        {
          "output_type": "execute_result",
          "data": {
            "text/plain": [
              "(<gensim.models.ldamulticore.LdaMulticore at 0x7f1c19e7e4a0>,\n",
              " <gensim.interfaces.TransformedCorpus at 0x7f1c1606af20>)"
            ]
          },
          "metadata": {},
          "execution_count": 41
        }
      ],
      "source": [
        "topic_modeling(middleeast_fake)"
      ]
    },
    {
      "cell_type": "code",
      "execution_count": 42,
      "metadata": {
        "colab": {
          "base_uri": "https://localhost:8080/"
        },
        "id": "L5xi9H9Gw715",
        "outputId": "72c3064b-302d-4a45-84e4-f9fd41e081e6"
      },
      "outputs": [
        {
          "output_type": "stream",
          "name": "stdout",
          "text": [
            "Subject: News\n",
            "Word: image, fake %: 99.38%\n",
            "Word: obama, fake %: 98.65%\n",
            "Word: time, fake %: 98.57%\n",
            "Word: people, fake %: 91.91%\n",
            "Word: clinton, fake %: 87.56%\n",
            "\n",
            "\n",
            "Subject: politics\n",
            "Word: hillary, fake %: 98.92%\n",
            "Word: obama, fake %: 98.65%\n",
            "Word: time, fake %: 98.57%\n",
            "Word: news, fake %: 97.42%\n",
            "Word: people, fake %: 91.91%\n",
            "\n",
            "\n",
            "Subject: Government News\n",
            "Word: obama, fake %: 98.65%\n",
            "Word: people, fake %: 91.91%\n",
            "Word: clinton, fake %: 87.56%\n",
            "Word: department, fake %: 84.58%\n",
            "Word: trump, fake %: 84.16%\n",
            "\n",
            "\n",
            "Subject: left-news\n",
            "Word: hillary, fake %: 98.92%\n",
            "Word: obama, fake %: 98.65%\n",
            "Word: black, fake %: 97.49%\n",
            "Word: news, fake %: 97.42%\n",
            "Word: people, fake %: 91.91%\n",
            "\n",
            "\n",
            "Subject: US_News\n",
            "Word: wire, fake %: 99.27%\n",
            "Word: century, fake %: 99.23%\n",
            "Word: news, fake %: 97.42%\n",
            "Word: syria, fake %: 91.24%\n",
            "Word: media, fake %: 88.80%\n",
            "\n",
            "\n",
            "Subject: Middle-east\n",
            "Word: wire, fake %: 99.27%\n",
            "Word: century, fake %: 99.23%\n",
            "Word: news, fake %: 97.42%\n",
            "Word: syria, fake %: 91.24%\n",
            "Word: media, fake %: 88.80%\n",
            "\n",
            "\n"
          ]
        }
      ],
      "source": [
        "top_negative_words_by_subject = {}\n",
        "for subject in df_fake['subject'].unique():\n",
        "    subset = df_fake[df_fake['subject'] == subject]\n",
        "    combined_text = ' '.join(subset['text_cleaned'])\n",
        "    words = combined_text.split()\n",
        "    word_counts = Counter(words)\n",
        "    top_words = [word for word, _ in word_counts.most_common(10)]\n",
        "    top_negative_words = []\n",
        "    for word in top_words:\n",
        "        probabilities = clf.predict_proba(bow_tfidf([word],vectorized)[0])\n",
        "        negative_index = list(clf.classes_).index('fake')\n",
        "        negative_percentage = probabilities[0][negative_index] *100\n",
        "        top_negative_words.append((word, negative_percentage))\n",
        "    top_negative_words.sort(key=lambda x: x[1], reverse=True)\n",
        "    top_negative_words = top_negative_words[:5]\n",
        "    top_negative_words_by_subject[subject] = top_negative_words\n",
        "\n",
        "for subject, words in top_negative_words_by_subject.items():\n",
        "    print(f\"Subject: {subject}\")\n",
        "    for word, percentage in words:\n",
        "        print(f\"Word: {word}, fake %: {percentage:.2f}%\")\n",
        "    print(\"\\n\")"
      ]
    },
    {
      "cell_type": "markdown",
      "metadata": {
        "id": "1A6U4vUJxzHA"
      },
      "source": [
        "4. **Dataset Analysis: Focus on Titles**"
      ]
    },
    {
      "cell_type": "code",
      "execution_count": 43,
      "metadata": {
        "id": "lw02z37tykIP"
      },
      "outputs": [],
      "source": [
        "fake_title_cleaned=data_cleaner(df_fake['title'])"
      ]
    },
    {
      "cell_type": "code",
      "execution_count": 44,
      "metadata": {
        "id": "KsmwZTDyzjGT"
      },
      "outputs": [],
      "source": [
        "with open('fake_title_cleaned.pkl', 'wb') as f:\n",
        "    pickle.dump(fake_title_cleaned, f)"
      ]
    },
    {
      "cell_type": "code",
      "execution_count": 45,
      "metadata": {
        "id": "2Tv9dnf8zpVq"
      },
      "outputs": [],
      "source": [
        "with open('fake_title_cleaned.pkl', 'rb') as f:\n",
        "    fake_title_cleaned = pickle.load(f)"
      ]
    },
    {
      "cell_type": "code",
      "execution_count": 49,
      "metadata": {
        "colab": {
          "base_uri": "https://localhost:8080/"
        },
        "id": "uusBXHKnztZ3",
        "outputId": "1c1d978a-1834-4635-949d-941d9e2cd847"
      },
      "outputs": [
        {
          "output_type": "execute_result",
          "data": {
            "text/plain": [
              "[('video', 8233),\n",
              " ('trump', 7907),\n",
              " ('obama', 2542),\n",
              " ('hillary', 2270),\n",
              " ('clinton', 1118)]"
            ]
          },
          "metadata": {},
          "execution_count": 49
        }
      ],
      "source": [
        "title_words = Counter(word for sublist in sent_to_words(fake_title_cleaned) for word in sublist)\n",
        "top_words = title_words.most_common(5)\n",
        "top_words"
      ]
    },
    {
      "cell_type": "code",
      "execution_count": 50,
      "metadata": {
        "colab": {
          "base_uri": "https://localhost:8080/"
        },
        "id": "W-hbZ8apzxze",
        "outputId": "d8084804-46c7-441c-8ad3-a1ae4e8f1f65"
      },
      "outputs": [
        {
          "output_type": "execute_result",
          "data": {
            "text/plain": [
              "array([[0., 0., 0., ..., 0., 0., 0.],\n",
              "       [0., 0., 0., ..., 0., 0., 0.],\n",
              "       [0., 0., 0., ..., 0., 0., 0.],\n",
              "       ...,\n",
              "       [0., 0., 0., ..., 0., 0., 0.],\n",
              "       [0., 0., 0., ..., 0., 0., 0.],\n",
              "       [0., 0., 0., ..., 0., 0., 0.]])"
            ]
          },
          "metadata": {},
          "execution_count": 50
        }
      ],
      "source": [
        "title_vectorized,vectorized=bow_tfidf(fake_title_cleaned, None)\n",
        "title_vectorized"
      ]
    },
    {
      "cell_type": "code",
      "execution_count": 51,
      "metadata": {
        "id": "3s00raw7Rk70",
        "colab": {
          "base_uri": "https://localhost:8080/"
        },
        "outputId": "0745ca2a-4e17-4588-eeab-9e6a69e72f41"
      },
      "outputs": [
        {
          "output_type": "execute_result",
          "data": {
            "text/plain": [
              "[('embarrassing', 0.5787271209859363),\n",
              " ('message', 0.5002059241600817),\n",
              " ('year', 0.4930444974584706),\n",
              " ('donald', 0.37237534192879784),\n",
              " ('trump', 0.18196890151842793)]"
            ]
          },
          "metadata": {},
          "execution_count": 51
        }
      ],
      "source": [
        "top_indices = np.argsort(title_vectorized)[0][::-1][:5]\n",
        "top_words_with_tfidf = [(vectorized.get_feature_names_out()[index], title_vectorized[0, index]) for index in top_indices]\n",
        "top_words_with_tfidf"
      ]
    }
  ],
  "metadata": {
    "colab": {
      "provenance": [],
      "machine_shape": "hm"
    },
    "kernelspec": {
      "display_name": "Python 3",
      "name": "python3"
    },
    "language_info": {
      "name": "python"
    }
  },
  "nbformat": 4,
  "nbformat_minor": 0
}